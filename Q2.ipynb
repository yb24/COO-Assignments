{
 "cells": [
  {
   "cell_type": "markdown",
   "id": "655b9c65",
   "metadata": {},
   "source": [
    "# Import Statements"
   ]
  },
  {
   "cell_type": "code",
   "execution_count": 1,
   "id": "24861414",
   "metadata": {},
   "outputs": [],
   "source": [
    "import numpy as np\n",
    "import numdifftools as nd"
   ]
  },
  {
   "cell_type": "markdown",
   "id": "7e721c11",
   "metadata": {},
   "source": [
    "# Helper Functions"
   ]
  },
  {
   "cell_type": "code",
   "execution_count": 2,
   "id": "b19f54a4",
   "metadata": {},
   "outputs": [],
   "source": [
    "f = lambda xyz: np.exp(xyz[0]) + 2*(xyz[1]**2) + 3*(xyz[2]**2)\n",
    "gradient_f = nd.Gradient(f)\n",
    "hessian_f = nd.Hessian(f)"
   ]
  },
  {
   "cell_type": "markdown",
   "id": "d32057c4",
   "metadata": {},
   "source": [
    "# Newton Descent for Equality Constraint Convex Problem"
   ]
  },
  {
   "cell_type": "code",
   "execution_count": 3,
   "id": "bbdad55d",
   "metadata": {},
   "outputs": [],
   "source": [
    "def newton_descent():\n",
    "    # newton descent\n",
    "    \n",
    "    xyz = [1,4,0]\n",
    "    A = np.array([[1,0,-5],[0,1,1]])\n",
    "    zero_mat = np.zeros((2,2))\n",
    "    alpha = 0.1\n",
    "    beta = 0.5\n",
    "    eta = 0.001\n",
    "    num_of_iterations = 0\n",
    "    \n",
    "    while(True):\n",
    "        num_of_iterations += 1\n",
    "        \n",
    "        grad_f = gradient_f(xyz)\n",
    "        hess_f = hessian_f(xyz)\n",
    "\n",
    "        big_matrix_1 = np.hstack((hess_f, A.T))\n",
    "        big_matrix_2 = np.hstack((A, zero_mat))\n",
    "        big_matrix = np.vstack((big_matrix_1, big_matrix_2))\n",
    "        small_matrix = np.vstack((-1*grad_f.reshape((3,1)), np.zeros((2,1))))\n",
    "        product_matrix = np.matmul(np.linalg.inv(big_matrix), small_matrix)\n",
    "        \n",
    "        \n",
    "        delta_f_nt = product_matrix[:3]\n",
    "        optimal_dual_variables = product_matrix[3:]\n",
    "\n",
    "        lambda_square = np.dot(grad_f.T, -1*delta_f_nt.reshape(3))\n",
    "        if lambda_square/2 <= eta:\n",
    "            break\n",
    "        \n",
    "        t = 1\n",
    "        while(f(xyz + t*delta_f_nt.reshape(3)) > (f(xyz) + alpha*t*np.dot(grad_f.T, delta_f_nt.reshape(3)))):\n",
    "            t = beta*t\n",
    "        xyz = xyz + t*delta_f_nt.reshape(3)\n",
    "    \n",
    "    print('Newton Descent')\n",
    "    print('Tolerance for stopping: {}'.format(eta))\n",
    "    print('Number of iterations in newton descent: {} where we stop when lambda squared by 2 is less than or equal to tolerance'.format(num_of_iterations))\n",
    "    print('Optimal x: {}'.format(xyz[0]))\n",
    "    print('Optimal y: {}'.format(xyz[1]))\n",
    "    print('Optimal z: {}'.format(xyz[2]))\n",
    "    print('Final f-value: {}'.format(f(xyz)))\n",
    "    print('Optimal Dual Variables: ')\n",
    "    print(optimal_dual_variables)"
   ]
  },
  {
   "cell_type": "code",
   "execution_count": 4,
   "id": "3429f708",
   "metadata": {},
   "outputs": [
    {
     "name": "stdout",
     "output_type": "stream",
     "text": [
      "Newton Descent\n",
      "Tolerance for stopping: 0.001\n",
      "Number of iterations in newton descent: 2 where we stop when lambda squared by 2 is less than or equal to tolerance\n",
      "Optimal x: 1.1544819224391458\n",
      "Optimal y: 3.96910361551217\n",
      "Optimal z: 0.03089638448782958\n",
      "Final f-value: 34.682810234171484\n",
      "Optimal Dual Variables: \n",
      "[[ -3.1420335]\n",
      " [-15.884067 ]]\n"
     ]
    }
   ],
   "source": [
    "newton_descent()"
   ]
  }
 ],
 "metadata": {
  "kernelspec": {
   "display_name": "Python 3 (ipykernel)",
   "language": "python",
   "name": "python3"
  },
  "language_info": {
   "codemirror_mode": {
    "name": "ipython",
    "version": 3
   },
   "file_extension": ".py",
   "mimetype": "text/x-python",
   "name": "python",
   "nbconvert_exporter": "python",
   "pygments_lexer": "ipython3",
   "version": "3.7.4"
  }
 },
 "nbformat": 4,
 "nbformat_minor": 5
}
