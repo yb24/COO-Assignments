{
 "cells": [
  {
   "cell_type": "markdown",
   "id": "2c530d5b",
   "metadata": {},
   "source": [
    "# Import Statements"
   ]
  },
  {
   "cell_type": "code",
   "execution_count": 1,
   "id": "aeead4b3",
   "metadata": {},
   "outputs": [],
   "source": [
    "import numpy as np\n",
    "import numdifftools as nd"
   ]
  },
  {
   "cell_type": "markdown",
   "id": "01c2872b",
   "metadata": {},
   "source": [
    "# Helper Functions"
   ]
  },
  {
   "cell_type": "code",
   "execution_count": 2,
   "id": "81f1d7ce",
   "metadata": {},
   "outputs": [],
   "source": [
    "z = lambda xy: 3*(xy[0]**2) + (xy[1]**4)\n",
    "gradient_z = nd.Gradient(z)\n",
    "hessian_z = nd.Hessian(z)"
   ]
  },
  {
   "cell_type": "markdown",
   "id": "6c136829",
   "metadata": {},
   "source": [
    "# Q1a (One iteration of Gradient Descent Algorithm, alpha=0.1, beta=0.5)"
   ]
  },
  {
   "cell_type": "code",
   "execution_count": 3,
   "id": "633f02ec",
   "metadata": {},
   "outputs": [],
   "source": [
    "def q1a():\n",
    "    # One iteration of gradient descent\n",
    "    \n",
    "    xy = [1,-2]\n",
    "    alpha = 0.1\n",
    "    beta = 0.5\n",
    "    \n",
    "    print('Q1 part a')\n",
    "    print('Initial point: {}'.format(xy))\n",
    "    \n",
    "    grad_z = gradient_z(xy)\n",
    "    delta_z = -1*gradient_z(xy)\n",
    "    \n",
    "    t = 1\n",
    "    while(z(xy + t*delta_z) > (z(xy) + alpha*t*np.dot(grad_z.T, delta_z))):\n",
    "        t = beta*t\n",
    "    xy = xy + t*delta_z\n",
    "    \n",
    "    print('Alpha: {}  &  Beta: {}'.format(alpha, beta))\n",
    "    print('f-value after one iteration of gradient descent: {}'.format(z(xy)))"
   ]
  },
  {
   "cell_type": "code",
   "execution_count": 4,
   "id": "e088c580",
   "metadata": {},
   "outputs": [
    {
     "name": "stdout",
     "output_type": "stream",
     "text": [
      "Q1 part a\n",
      "Initial point: [1, -2]\n",
      "Alpha: 0.1  &  Beta: 0.5\n",
      "f-value after one iteration of gradient descent: 1.1718750000000004\n"
     ]
    }
   ],
   "source": [
    "q1a()"
   ]
  },
  {
   "cell_type": "markdown",
   "id": "29c62bb7",
   "metadata": {},
   "source": [
    "# Q1b (One iteration of Gradient Descent Algorithm, alpha=0.1, beta=0.1)"
   ]
  },
  {
   "cell_type": "code",
   "execution_count": 5,
   "id": "792ecab6",
   "metadata": {},
   "outputs": [],
   "source": [
    "def q1b():\n",
    "    # One iteration of gradient descent\n",
    "    \n",
    "    xy = [1,-2]\n",
    "    alpha = 0.1\n",
    "    beta = 0.1\n",
    "    \n",
    "    print('Q1 part b')\n",
    "    print('Initial point: {}'.format(xy))\n",
    "    \n",
    "    grad_z = gradient_z(xy)\n",
    "    delta_z = -1*gradient_z(xy)\n",
    "    \n",
    "    t = 1\n",
    "    while(z(xy + t*delta_z) > (z(xy) + alpha*t*np.dot(grad_z.T, delta_z))):\n",
    "        t = beta*t\n",
    "    xy = xy + t*delta_z\n",
    "    \n",
    "    print('Alpha: {}  &  Beta: {}'.format(alpha, beta))\n",
    "    print('f-value after one iteration of gradient descent: {}'.format(z(xy)))"
   ]
  },
  {
   "cell_type": "code",
   "execution_count": 6,
   "id": "d1f3ab28",
   "metadata": {},
   "outputs": [
    {
     "name": "stdout",
     "output_type": "stream",
     "text": [
      "Q1 part b\n",
      "Initial point: [1, -2]\n",
      "Alpha: 0.1  &  Beta: 0.1\n",
      "f-value after one iteration of gradient descent: 2.5535999999999954\n",
      "\n",
      "f-value in part b is more than that from part a\n",
      "\n",
      "Difference in betas: beta=0.5 corresponds to a less crude search whereas beta=0.1 corresponds to a more crude search. The higher the value of beta, the more t will become smaller in each iteration of while loop of backtracking line search\n"
     ]
    }
   ],
   "source": [
    "q1b()\n",
    "print('\\nf-value in part b is more than that from part a')\n",
    "print('\\nDifference in betas: beta=0.5 corresponds to a less crude search whereas beta=0.1 corresponds to a more crude search. The higher the value of beta, the more t will become smaller in each iteration of while loop of backtracking line search')"
   ]
  },
  {
   "cell_type": "markdown",
   "id": "17a28518",
   "metadata": {},
   "source": [
    "# Q1c (One iteration of Newton Descent Algorithm, alpha=0.1, beta=0.5)"
   ]
  },
  {
   "cell_type": "code",
   "execution_count": 7,
   "id": "89abeec5",
   "metadata": {},
   "outputs": [],
   "source": [
    "def q1c():\n",
    "    # One iteration of newton descent using alpha=0.1, beta=0.5\n",
    "    \n",
    "    xy = [1,-2]\n",
    "    alpha = 0.1\n",
    "    beta = 0.5\n",
    "    eta = 0.1\n",
    "    \n",
    "    print('Q1 part c')\n",
    "    print('Initial point: {}'.format(xy))\n",
    "    \n",
    "    grad_z = gradient_z(xy)\n",
    "    hess_z = hessian_z(xy)\n",
    "    \n",
    "    delta_z_nt = np.matmul(-1*np.linalg.inv(hess_z), grad_z)\n",
    "    \n",
    "    lambda_square = np.dot(grad_z.T, -1*delta_z_nt)\n",
    "    if lambda_square/2 < eta:\n",
    "        return\n",
    "    \n",
    "    t = 1\n",
    "    while(z(xy + t*delta_z_nt) > (z(xy) + alpha*t*np.dot(grad_z.T, delta_z_nt))):\n",
    "        t = beta*t\n",
    "    xy = xy + t*delta_z_nt\n",
    "    \n",
    "    print('Alpha: {}  &  Beta: {}'.format(alpha, beta))\n",
    "    print('f-value after one iteration of newton descent: {}'.format(z(xy)))"
   ]
  },
  {
   "cell_type": "code",
   "execution_count": 8,
   "id": "70147e66",
   "metadata": {},
   "outputs": [
    {
     "name": "stdout",
     "output_type": "stream",
     "text": [
      "Q1 part c\n",
      "Initial point: [1, -2]\n",
      "Alpha: 0.1  &  Beta: 0.5\n",
      "f-value after one iteration of newton descent: 3.1604938271604954\n",
      "\n",
      "f-value in part c is more than that from part a\n",
      "\n",
      "The amount of work in terms of computation is more here since we need to calculate the inverse of a matrix and do matrix multiplication as well\n"
     ]
    }
   ],
   "source": [
    "q1c()\n",
    "print('\\nf-value in part c is more than that from part a')\n",
    "print('\\nThe amount of work in terms of computation is more here since we need to calculate the inverse of a matrix and do matrix multiplication as well')"
   ]
  },
  {
   "cell_type": "markdown",
   "id": "c612bcde",
   "metadata": {},
   "source": [
    "# Q1d (Gradient Descent Algorithm & Newton Descent Algorithm, alpha=0.1, beta=0.5)"
   ]
  },
  {
   "cell_type": "code",
   "execution_count": 9,
   "id": "200dc755",
   "metadata": {},
   "outputs": [],
   "source": [
    "def gradient_descent():\n",
    "    # gradient descent\n",
    "    \n",
    "    xy = [1,-2]\n",
    "    alpha = 0.1\n",
    "    beta = 0.5\n",
    "    num_of_iterations = 0\n",
    "    tolerance = 0.001\n",
    "    \n",
    "    while(True):\n",
    "        num_of_iterations += 1\n",
    "        \n",
    "        grad_z = gradient_z(xy)\n",
    "        delta_z = -1*gradient_z(xy)\n",
    "        \n",
    "        # backtracking line search\n",
    "        t = 1\n",
    "        while(z(xy + t*delta_z) > (z(xy) + alpha*t*np.dot(grad_z.T, delta_z))):\n",
    "            t = beta*t\n",
    "        \n",
    "        # updating values\n",
    "        xy = xy + t*delta_z\n",
    "        \n",
    "        # checking convergence\n",
    "        if(np.linalg.norm(grad_z) <= tolerance):\n",
    "            break\n",
    "    \n",
    "    print('Gradient Descent')\n",
    "    print('Tolerance for stopping: {} where we stop when norm of gradient is less than or equal to tolerance'.format(tolerance))\n",
    "    print('Number of iterations in gradient descent: {}'.format(num_of_iterations))\n",
    "    print('Final f-value: {}'.format(z(xy)))\n",
    "\n",
    "\n",
    "def newton_descent():\n",
    "    # newton descent\n",
    "    \n",
    "    xy = [1,-2]\n",
    "    alpha = 0.1\n",
    "    beta = 0.5\n",
    "    eta = 0.001\n",
    "    num_of_iterations = 0\n",
    "    \n",
    "    while(True):\n",
    "        num_of_iterations += 1\n",
    "        \n",
    "        grad_z = gradient_z(xy)\n",
    "        hess_z = hessian_z(xy)\n",
    "\n",
    "        delta_z_nt = np.matmul(-1*np.linalg.inv(hess_z), grad_z)\n",
    "\n",
    "        lambda_square = np.dot(grad_z.T, -1*delta_z_nt)\n",
    "        if lambda_square/2 <= eta:\n",
    "            break\n",
    "        \n",
    "        t = 1\n",
    "        while(z(xy + t*delta_z_nt) > (z(xy) + alpha*t*np.dot(grad_z.T, delta_z_nt))):\n",
    "            t = beta*t\n",
    "        xy = xy + t*delta_z_nt\n",
    "    \n",
    "    print('Newton Descent')\n",
    "    print('Tolerance for stopping: {}'.format(eta))\n",
    "    print('Number of iterations in newton descent: {} where we stop when lambda squared by 2 is less than or equal to tolerance'.format(num_of_iterations))\n",
    "    print('Final f-value: {}'.format(z(xy)))\n",
    "\n",
    "def q1d():\n",
    "    gradient_descent()\n",
    "    print('\\n')\n",
    "    newton_descent()"
   ]
  },
  {
   "cell_type": "code",
   "execution_count": 10,
   "id": "93810c36",
   "metadata": {},
   "outputs": [
    {
     "name": "stdout",
     "output_type": "stream",
     "text": [
      "Gradient Descent\n",
      "Tolerance for stopping: 0.001 where we stop when norm of gradient is less than or equal to tolerance\n",
      "Number of iterations in gradient descent: 14\n",
      "Final f-value: 1.7462298274040037e-08\n",
      "\n",
      "\n",
      "Newton Descent\n",
      "Tolerance for stopping: 0.001\n",
      "Number of iterations in newton descent: 7 where we stop when lambda squared by 2 is less than or equal to tolerance\n",
      "Final f-value: 0.0009504510730167877\n"
     ]
    }
   ],
   "source": [
    "q1d()"
   ]
  }
 ],
 "metadata": {
  "kernelspec": {
   "display_name": "Python 3 (ipykernel)",
   "language": "python",
   "name": "python3"
  },
  "language_info": {
   "codemirror_mode": {
    "name": "ipython",
    "version": 3
   },
   "file_extension": ".py",
   "mimetype": "text/x-python",
   "name": "python",
   "nbconvert_exporter": "python",
   "pygments_lexer": "ipython3",
   "version": "3.7.4"
  }
 },
 "nbformat": 4,
 "nbformat_minor": 5
}
